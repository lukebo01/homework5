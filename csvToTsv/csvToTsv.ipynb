{
 "cells": [
  {
   "cell_type": "code",
   "execution_count": 4,
   "metadata": {},
   "outputs": [
    {
     "name": "stdout",
     "output_type": "stream",
     "text": [
      "✅ train.tsv creato correttamente!\n",
      "✅ valid.tsv creato correttamente!\n",
      "✅ test.tsv creato correttamente!\n"
     ]
    }
   ],
   "source": [
    "import pandas as pd\n",
    "\n",
    "# Caricamento delle tabelle di dati\n",
    "tableA = pd.read_csv(\"tableA.csv\")\n",
    "tableB = pd.read_csv(\"tableB.csv\")\n",
    "train = pd.read_csv(\"train.csv\")\n",
    "valid = pd.read_csv(\"valid.csv\")\n",
    "test = pd.read_csv(\"test.csv\")\n",
    "\n",
    "def process_and_save(data, filename):\n",
    "    # Uniamo i dati usando `ltable_id` e `rtable_id`\n",
    "    merged = data.merge(tableA, left_on=\"ltable_id\", right_on=\"id\", how=\"left\") \\\n",
    "                 .merge(tableB, left_on=\"rtable_id\", right_on=\"id\", how=\"left\", suffixes=(\"_A\", \"_B\"))\n",
    "\n",
    "    # Sostituiamo i valori NaN con stringhe vuote\n",
    "    merged = merged.fillna(\"\")\n",
    "\n",
    "    # Creiamo le frasi combinando le colonne più informative\n",
    "    merged[\"sentence1\"] = merged[\"Song_Name_A\"].astype(str) + \" - \" + \\\n",
    "                          merged[\"Artist_Name_A\"].astype(str) + \" - \" + \\\n",
    "                          merged[\"Album_Name_A\"].astype(str)\n",
    "\n",
    "    merged[\"sentence2\"] = merged[\"Song_Name_B\"].astype(str) + \" - \" + \\\n",
    "                          merged[\"Artist_Name_B\"].astype(str) + \" - \" + \\\n",
    "                          merged[\"Album_Name_B\"].astype(str)\n",
    "\n",
    "    # Selezioniamo solo le colonne necessarie\n",
    "    final_data = merged[[\"ltable_id\", \"sentence1\", \"sentence2\", \"label\"]]\n",
    "\n",
    "    # Rinominiamo le colonne per il formato corretto\n",
    "    final_data.columns = [\"id\", \"sentence1\", \"sentence2\", \"label\"]\n",
    "\n",
    "    # Salviamo il file in formato TSV (tab-separated values)\n",
    "    final_data.to_csv(filename, sep=\"\\t\", index=False)\n",
    "\n",
    "    print(f\"✅ {filename} creato correttamente!\")\n",
    "\n",
    "# Processa e salva i file train, valid e test\n",
    "process_and_save(train, \"train.tsv\")\n",
    "process_and_save(valid, \"valid.tsv\")\n",
    "process_and_save(test, \"test.tsv\")\n"
   ]
  }
 ],
 "metadata": {
  "kernelspec": {
   "display_name": ".venv",
   "language": "python",
   "name": "python3"
  },
  "language_info": {
   "codemirror_mode": {
    "name": "ipython",
    "version": 3
   },
   "file_extension": ".py",
   "mimetype": "text/x-python",
   "name": "python",
   "nbconvert_exporter": "python",
   "pygments_lexer": "ipython3",
   "version": "3.12.4"
  }
 },
 "nbformat": 4,
 "nbformat_minor": 2
}
